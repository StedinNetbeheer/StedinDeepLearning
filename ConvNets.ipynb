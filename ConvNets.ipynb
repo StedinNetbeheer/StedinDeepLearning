from IPython.display import display, Math, Latex

$e^{i\pi} + 1 = 0$

